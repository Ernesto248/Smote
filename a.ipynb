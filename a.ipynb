{
 "cells": [
  {
   "cell_type": "code",
   "execution_count": 1,
   "metadata": {},
   "outputs": [],
   "source": [
    "import pandas as pd\n",
    "import numpy as np\n",
    "from SmoteCovPy import SmoteCov\n",
    "from SmoteCovPy import ShrinkageMethods"
   ]
  },
  {
   "cell_type": "code",
   "execution_count": 2,
   "metadata": {},
   "outputs": [
    {
     "name": "stdout",
     "output_type": "stream",
     "text": [
      "====================================================================================================\n",
      "[OK] Minority classname: Breast\n",
      "[OK] Minority class instances count: 344\n",
      "[OK] Majority class instances count: 1201\n",
      "====================================================================================================\n"
     ]
    }
   ],
   "source": [
    "data = SmoteCov(\"breast.csv\", class_column_name=\"Tissue\")"
   ]
  },
  {
   "cell_type": "code",
   "execution_count": 3,
   "metadata": {},
   "outputs": [
    {
     "name": "stdout",
     "output_type": "stream",
     "text": [
      "Balance dataset by using LEDOIT-WOLF [sklearn] method\n",
      "****************************************************************************************************\n"
     ]
    },
    {
     "name": "stderr",
     "output_type": "stream",
     "text": [
      "c:\\Users\\Jenifer Casalis\\Desktop\\jeni\\Para copiar a inv\\Codigo algoritmo SmoteCov\\SmoteCovPy.py:269: RuntimeWarning: covariance is not symmetric positive-semidefinite.\n",
      "  instance:np.ndarray = np_random.multivariate_normal(mean=mean_array, cov=self._covariance_matrix)\n"
     ]
    }
   ],
   "source": [
    "data.balance_dataset_using_ledoit_wolf_method(shrinkage_method=ShrinkageMethods.SKLEARN)"
   ]
  },
  {
   "cell_type": "code",
   "execution_count": null,
   "metadata": {},
   "outputs": [],
   "source": []
  }
 ],
 "metadata": {
  "kernelspec": {
   "display_name": "base",
   "language": "python",
   "name": "python3"
  },
  "language_info": {
   "codemirror_mode": {
    "name": "ipython",
    "version": 3
   },
   "file_extension": ".py",
   "mimetype": "text/x-python",
   "name": "python",
   "nbconvert_exporter": "python",
   "pygments_lexer": "ipython3",
   "version": "3.11.5"
  }
 },
 "nbformat": 4,
 "nbformat_minor": 2
}
